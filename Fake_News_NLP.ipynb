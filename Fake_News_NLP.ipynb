{
 "cells": [
  {
   "cell_type": "markdown",
   "id": "c2222e76-8ef6-459c-b23b-6f97fd814dd6",
   "metadata": {},
   "source": [
    "### Importing & Loading what we need"
   ]
  },
  {
   "cell_type": "code",
   "execution_count": 1,
   "id": "1dfa4df7-3459-4986-80a7-0701dda39795",
   "metadata": {},
   "outputs": [
    {
     "name": "stderr",
     "output_type": "stream",
     "text": [
      "[nltk_data] Error loading stopwords: <urlopen error [SSL:\n",
      "[nltk_data]     CERTIFICATE_VERIFY_FAILED] certificate verify failed:\n",
      "[nltk_data]     unable to get local issuer certificate (_ssl.c:1000)>\n"
     ]
    }
   ],
   "source": [
    "import pandas as pd\n",
    "import re\n",
    "import nltk\n",
    "from nltk.corpus import stopwords\n",
    "from nltk.stem.porter import PorterStemmer\n",
    "from sklearn.model_selection import train_test_split\n",
    "from sklearn.feature_extraction.text import TfidfVectorizer\n",
    "from sklearn.svm import SVC  \n",
    "from sklearn.metrics import accuracy_score\n",
    "import pickle\n",
    "\n",
    "# Ensure that the stopwords are downloaded\n",
    "nltk.download('stopwords')\n",
    "\n",
    "# Load the dataset\n",
    "df_train = pd.read_csv('fake-news/train.csv')\n",
    "df_test = pd.read_csv('fake-news/test.csv')"
   ]
  },
  {
   "cell_type": "code",
   "execution_count": 2,
   "id": "bf7dd845-2dd3-4eb3-84fe-579c8f4e62b6",
   "metadata": {},
   "outputs": [
    {
     "data": {
      "text/html": [
       "<div>\n",
       "<style scoped>\n",
       "    .dataframe tbody tr th:only-of-type {\n",
       "        vertical-align: middle;\n",
       "    }\n",
       "\n",
       "    .dataframe tbody tr th {\n",
       "        vertical-align: top;\n",
       "    }\n",
       "\n",
       "    .dataframe thead th {\n",
       "        text-align: right;\n",
       "    }\n",
       "</style>\n",
       "<table border=\"1\" class=\"dataframe\">\n",
       "  <thead>\n",
       "    <tr style=\"text-align: right;\">\n",
       "      <th></th>\n",
       "      <th>id</th>\n",
       "      <th>title</th>\n",
       "      <th>author</th>\n",
       "      <th>text</th>\n",
       "      <th>label</th>\n",
       "    </tr>\n",
       "  </thead>\n",
       "  <tbody>\n",
       "    <tr>\n",
       "      <th>0</th>\n",
       "      <td>0</td>\n",
       "      <td>House Dem Aide: We Didn’t Even See Comey’s Let...</td>\n",
       "      <td>Darrell Lucus</td>\n",
       "      <td>House Dem Aide: We Didn’t Even See Comey’s Let...</td>\n",
       "      <td>1</td>\n",
       "    </tr>\n",
       "    <tr>\n",
       "      <th>1</th>\n",
       "      <td>1</td>\n",
       "      <td>FLYNN: Hillary Clinton, Big Woman on Campus - ...</td>\n",
       "      <td>Daniel J. Flynn</td>\n",
       "      <td>Ever get the feeling your life circles the rou...</td>\n",
       "      <td>0</td>\n",
       "    </tr>\n",
       "    <tr>\n",
       "      <th>2</th>\n",
       "      <td>2</td>\n",
       "      <td>Why the Truth Might Get You Fired</td>\n",
       "      <td>Consortiumnews.com</td>\n",
       "      <td>Why the Truth Might Get You Fired October 29, ...</td>\n",
       "      <td>1</td>\n",
       "    </tr>\n",
       "    <tr>\n",
       "      <th>3</th>\n",
       "      <td>3</td>\n",
       "      <td>15 Civilians Killed In Single US Airstrike Hav...</td>\n",
       "      <td>Jessica Purkiss</td>\n",
       "      <td>Videos 15 Civilians Killed In Single US Airstr...</td>\n",
       "      <td>1</td>\n",
       "    </tr>\n",
       "    <tr>\n",
       "      <th>4</th>\n",
       "      <td>4</td>\n",
       "      <td>Iranian woman jailed for fictional unpublished...</td>\n",
       "      <td>Howard Portnoy</td>\n",
       "      <td>Print \\nAn Iranian woman has been sentenced to...</td>\n",
       "      <td>1</td>\n",
       "    </tr>\n",
       "  </tbody>\n",
       "</table>\n",
       "</div>"
      ],
      "text/plain": [
       "   id                                              title              author  \\\n",
       "0   0  House Dem Aide: We Didn’t Even See Comey’s Let...       Darrell Lucus   \n",
       "1   1  FLYNN: Hillary Clinton, Big Woman on Campus - ...     Daniel J. Flynn   \n",
       "2   2                  Why the Truth Might Get You Fired  Consortiumnews.com   \n",
       "3   3  15 Civilians Killed In Single US Airstrike Hav...     Jessica Purkiss   \n",
       "4   4  Iranian woman jailed for fictional unpublished...      Howard Portnoy   \n",
       "\n",
       "                                                text  label  \n",
       "0  House Dem Aide: We Didn’t Even See Comey’s Let...      1  \n",
       "1  Ever get the feeling your life circles the rou...      0  \n",
       "2  Why the Truth Might Get You Fired October 29, ...      1  \n",
       "3  Videos 15 Civilians Killed In Single US Airstr...      1  \n",
       "4  Print \\nAn Iranian woman has been sentenced to...      1  "
      ]
     },
     "execution_count": 2,
     "metadata": {},
     "output_type": "execute_result"
    }
   ],
   "source": [
    "df_train.head()"
   ]
  },
  {
   "cell_type": "code",
   "execution_count": 3,
   "id": "0b77b47e-eb2a-4b0a-b13c-43d304035e38",
   "metadata": {},
   "outputs": [
    {
     "data": {
      "text/html": [
       "<div>\n",
       "<style scoped>\n",
       "    .dataframe tbody tr th:only-of-type {\n",
       "        vertical-align: middle;\n",
       "    }\n",
       "\n",
       "    .dataframe tbody tr th {\n",
       "        vertical-align: top;\n",
       "    }\n",
       "\n",
       "    .dataframe thead th {\n",
       "        text-align: right;\n",
       "    }\n",
       "</style>\n",
       "<table border=\"1\" class=\"dataframe\">\n",
       "  <thead>\n",
       "    <tr style=\"text-align: right;\">\n",
       "      <th></th>\n",
       "      <th>id</th>\n",
       "      <th>title</th>\n",
       "      <th>author</th>\n",
       "      <th>text</th>\n",
       "    </tr>\n",
       "  </thead>\n",
       "  <tbody>\n",
       "    <tr>\n",
       "      <th>0</th>\n",
       "      <td>20800</td>\n",
       "      <td>Specter of Trump Loosens Tongues, if Not Purse...</td>\n",
       "      <td>David Streitfeld</td>\n",
       "      <td>PALO ALTO, Calif.  —   After years of scorning...</td>\n",
       "    </tr>\n",
       "    <tr>\n",
       "      <th>1</th>\n",
       "      <td>20801</td>\n",
       "      <td>Russian warships ready to strike terrorists ne...</td>\n",
       "      <td>NaN</td>\n",
       "      <td>Russian warships ready to strike terrorists ne...</td>\n",
       "    </tr>\n",
       "    <tr>\n",
       "      <th>2</th>\n",
       "      <td>20802</td>\n",
       "      <td>#NoDAPL: Native American Leaders Vow to Stay A...</td>\n",
       "      <td>Common Dreams</td>\n",
       "      <td>Videos #NoDAPL: Native American Leaders Vow to...</td>\n",
       "    </tr>\n",
       "    <tr>\n",
       "      <th>3</th>\n",
       "      <td>20803</td>\n",
       "      <td>Tim Tebow Will Attempt Another Comeback, This ...</td>\n",
       "      <td>Daniel Victor</td>\n",
       "      <td>If at first you don’t succeed, try a different...</td>\n",
       "    </tr>\n",
       "    <tr>\n",
       "      <th>4</th>\n",
       "      <td>20804</td>\n",
       "      <td>Keiser Report: Meme Wars (E995)</td>\n",
       "      <td>Truth Broadcast Network</td>\n",
       "      <td>42 mins ago 1 Views 0 Comments 0 Likes 'For th...</td>\n",
       "    </tr>\n",
       "  </tbody>\n",
       "</table>\n",
       "</div>"
      ],
      "text/plain": [
       "      id                                              title  \\\n",
       "0  20800  Specter of Trump Loosens Tongues, if Not Purse...   \n",
       "1  20801  Russian warships ready to strike terrorists ne...   \n",
       "2  20802  #NoDAPL: Native American Leaders Vow to Stay A...   \n",
       "3  20803  Tim Tebow Will Attempt Another Comeback, This ...   \n",
       "4  20804                    Keiser Report: Meme Wars (E995)   \n",
       "\n",
       "                    author                                               text  \n",
       "0         David Streitfeld  PALO ALTO, Calif.  —   After years of scorning...  \n",
       "1                      NaN  Russian warships ready to strike terrorists ne...  \n",
       "2            Common Dreams  Videos #NoDAPL: Native American Leaders Vow to...  \n",
       "3            Daniel Victor  If at first you don’t succeed, try a different...  \n",
       "4  Truth Broadcast Network  42 mins ago 1 Views 0 Comments 0 Likes 'For th...  "
      ]
     },
     "execution_count": 3,
     "metadata": {},
     "output_type": "execute_result"
    }
   ],
   "source": [
    "df_test.head()"
   ]
  },
  {
   "cell_type": "code",
   "execution_count": 4,
   "id": "21480fe1-30ff-43fa-b71b-aee90f459b1b",
   "metadata": {},
   "outputs": [
    {
     "name": "stdout",
     "output_type": "stream",
     "text": [
      "Training set shape: (20800, 5)\n",
      "Test set shape: (5200, 4)\n"
     ]
    }
   ],
   "source": [
    "print(f'Training set shape: {df_train.shape}')\n",
    "print(f'Test set shape: {df_test.shape}')"
   ]
  },
  {
   "cell_type": "code",
   "execution_count": 5,
   "id": "e7dc218d-0c18-41c0-bc3c-1b309b328111",
   "metadata": {},
   "outputs": [
    {
     "name": "stdout",
     "output_type": "stream",
     "text": [
      "<class 'pandas.core.frame.DataFrame'>\n",
      "RangeIndex: 20800 entries, 0 to 20799\n",
      "Data columns (total 5 columns):\n",
      " #   Column  Non-Null Count  Dtype \n",
      "---  ------  --------------  ----- \n",
      " 0   id      20800 non-null  int64 \n",
      " 1   title   20242 non-null  object\n",
      " 2   author  18843 non-null  object\n",
      " 3   text    20761 non-null  object\n",
      " 4   label   20800 non-null  int64 \n",
      "dtypes: int64(2), object(3)\n",
      "memory usage: 812.6+ KB\n"
     ]
    }
   ],
   "source": [
    "df_train.info()"
   ]
  },
  {
   "cell_type": "code",
   "execution_count": 6,
   "id": "c352a9c4-cb5a-4d80-b2f7-fdd173528b13",
   "metadata": {},
   "outputs": [
    {
     "name": "stdout",
     "output_type": "stream",
     "text": [
      "<class 'pandas.core.frame.DataFrame'>\n",
      "RangeIndex: 5200 entries, 0 to 5199\n",
      "Data columns (total 4 columns):\n",
      " #   Column  Non-Null Count  Dtype \n",
      "---  ------  --------------  ----- \n",
      " 0   id      5200 non-null   int64 \n",
      " 1   title   5078 non-null   object\n",
      " 2   author  4697 non-null   object\n",
      " 3   text    5193 non-null   object\n",
      "dtypes: int64(1), object(3)\n",
      "memory usage: 162.6+ KB\n"
     ]
    }
   ],
   "source": [
    "df_test.info()"
   ]
  },
  {
   "cell_type": "code",
   "execution_count": 7,
   "id": "60640fed-de86-4222-ba88-117364a75602",
   "metadata": {},
   "outputs": [
    {
     "data": {
      "text/html": [
       "<div>\n",
       "<style scoped>\n",
       "    .dataframe tbody tr th:only-of-type {\n",
       "        vertical-align: middle;\n",
       "    }\n",
       "\n",
       "    .dataframe tbody tr th {\n",
       "        vertical-align: top;\n",
       "    }\n",
       "\n",
       "    .dataframe thead th {\n",
       "        text-align: right;\n",
       "    }\n",
       "</style>\n",
       "<table border=\"1\" class=\"dataframe\">\n",
       "  <thead>\n",
       "    <tr style=\"text-align: right;\">\n",
       "      <th></th>\n",
       "      <th>count</th>\n",
       "      <th>mean</th>\n",
       "      <th>std</th>\n",
       "      <th>min</th>\n",
       "      <th>25%</th>\n",
       "      <th>50%</th>\n",
       "      <th>75%</th>\n",
       "      <th>max</th>\n",
       "    </tr>\n",
       "  </thead>\n",
       "  <tbody>\n",
       "    <tr>\n",
       "      <th>id</th>\n",
       "      <td>20800.0</td>\n",
       "      <td>10399.500000</td>\n",
       "      <td>6004.587135</td>\n",
       "      <td>0.0</td>\n",
       "      <td>5199.75</td>\n",
       "      <td>10399.5</td>\n",
       "      <td>15599.25</td>\n",
       "      <td>20799.0</td>\n",
       "    </tr>\n",
       "    <tr>\n",
       "      <th>label</th>\n",
       "      <td>20800.0</td>\n",
       "      <td>0.500625</td>\n",
       "      <td>0.500012</td>\n",
       "      <td>0.0</td>\n",
       "      <td>0.00</td>\n",
       "      <td>1.0</td>\n",
       "      <td>1.00</td>\n",
       "      <td>1.0</td>\n",
       "    </tr>\n",
       "  </tbody>\n",
       "</table>\n",
       "</div>"
      ],
      "text/plain": [
       "         count          mean          std  min      25%      50%       75%  \\\n",
       "id     20800.0  10399.500000  6004.587135  0.0  5199.75  10399.5  15599.25   \n",
       "label  20800.0      0.500625     0.500012  0.0     0.00      1.0      1.00   \n",
       "\n",
       "           max  \n",
       "id     20799.0  \n",
       "label      1.0  "
      ]
     },
     "execution_count": 7,
     "metadata": {},
     "output_type": "execute_result"
    }
   ],
   "source": [
    "df_train.describe().T"
   ]
  },
  {
   "cell_type": "code",
   "execution_count": 8,
   "id": "a9591f70-8e0c-4e35-a15e-a06716d1e0f1",
   "metadata": {},
   "outputs": [
    {
     "data": {
      "text/html": [
       "<div>\n",
       "<style scoped>\n",
       "    .dataframe tbody tr th:only-of-type {\n",
       "        vertical-align: middle;\n",
       "    }\n",
       "\n",
       "    .dataframe tbody tr th {\n",
       "        vertical-align: top;\n",
       "    }\n",
       "\n",
       "    .dataframe thead th {\n",
       "        text-align: right;\n",
       "    }\n",
       "</style>\n",
       "<table border=\"1\" class=\"dataframe\">\n",
       "  <thead>\n",
       "    <tr style=\"text-align: right;\">\n",
       "      <th></th>\n",
       "      <th>count</th>\n",
       "      <th>mean</th>\n",
       "      <th>std</th>\n",
       "      <th>min</th>\n",
       "      <th>25%</th>\n",
       "      <th>50%</th>\n",
       "      <th>75%</th>\n",
       "      <th>max</th>\n",
       "    </tr>\n",
       "  </thead>\n",
       "  <tbody>\n",
       "    <tr>\n",
       "      <th>id</th>\n",
       "      <td>5200.0</td>\n",
       "      <td>23399.5</td>\n",
       "      <td>1501.255031</td>\n",
       "      <td>20800.0</td>\n",
       "      <td>22099.75</td>\n",
       "      <td>23399.5</td>\n",
       "      <td>24699.25</td>\n",
       "      <td>25999.0</td>\n",
       "    </tr>\n",
       "  </tbody>\n",
       "</table>\n",
       "</div>"
      ],
      "text/plain": [
       "     count     mean          std      min       25%      50%       75%  \\\n",
       "id  5200.0  23399.5  1501.255031  20800.0  22099.75  23399.5  24699.25   \n",
       "\n",
       "        max  \n",
       "id  25999.0  "
      ]
     },
     "execution_count": 8,
     "metadata": {},
     "output_type": "execute_result"
    }
   ],
   "source": [
    "df_test.describe().T"
   ]
  },
  {
   "cell_type": "markdown",
   "id": "2a174925-ede9-4b38-b3fd-67c6117515bb",
   "metadata": {},
   "source": [
    "### Checking For Missing Values"
   ]
  },
  {
   "cell_type": "code",
   "execution_count": 9,
   "id": "2561b2b1-5090-4a15-aff4-b68c11963da6",
   "metadata": {},
   "outputs": [
    {
     "data": {
      "text/plain": [
       "id           0\n",
       "title      558\n",
       "author    1957\n",
       "text        39\n",
       "label        0\n",
       "dtype: int64"
      ]
     },
     "execution_count": 9,
     "metadata": {},
     "output_type": "execute_result"
    }
   ],
   "source": [
    "df_train.isna().sum()"
   ]
  },
  {
   "cell_type": "code",
   "execution_count": 10,
   "id": "6a310e2a-2295-49e3-80bf-610f876cab1d",
   "metadata": {},
   "outputs": [
    {
     "data": {
      "text/plain": [
       "id          0\n",
       "title     122\n",
       "author    503\n",
       "text        7\n",
       "dtype: int64"
      ]
     },
     "execution_count": 10,
     "metadata": {},
     "output_type": "execute_result"
    }
   ],
   "source": [
    "df_test.isna().sum()"
   ]
  },
  {
   "cell_type": "markdown",
   "id": "4c604af4-4de2-467f-89d7-773dcc51e780",
   "metadata": {},
   "source": [
    "### Handling Missing Values "
   ]
  },
  {
   "cell_type": "code",
   "execution_count": 11,
   "id": "a241f4ca-8bef-4531-90ac-20469f532863",
   "metadata": {},
   "outputs": [],
   "source": [
    "df_train.fillna('', inplace=True)\n",
    "df_test.fillna('', inplace=True)"
   ]
  },
  {
   "cell_type": "markdown",
   "id": "8c3ad1f2-1fc0-4e99-861b-bf99196824d9",
   "metadata": {},
   "source": [
    "### Droping Unwanted Columns & Combine 'author' and 'title' into 'Content'"
   ]
  },
  {
   "cell_type": "code",
   "execution_count": 12,
   "id": "e640aa58-beb5-4b61-a4e3-3ae86a21113d",
   "metadata": {},
   "outputs": [],
   "source": [
    "df_train['Content'] = df_train['author'] + ' ' + df_train['title']\n",
    "df_test['Content'] = df_test['author'] + ' ' + df_test['title']\n",
    "df_train = df_train.drop(columns=['id'], axis=1)  # Drop the 'id' column from train\n",
    "df_test = df_test.drop(columns=['id'], axis=1)  # Drop the 'id' column from test"
   ]
  },
  {
   "cell_type": "markdown",
   "id": "5fffe7f9-26a6-441e-a142-d98d5d43ecf8",
   "metadata": {},
   "source": [
    "### Initialize the PorterStemmer for stemming"
   ]
  },
  {
   "cell_type": "code",
   "execution_count": 13,
   "id": "3e51dd6f-7074-475b-9733-61065c85a428",
   "metadata": {},
   "outputs": [],
   "source": [
    "port_stem = PorterStemmer()"
   ]
  },
  {
   "cell_type": "markdown",
   "id": "b46824ce-c6bb-4a16-8a68-49b36299554a",
   "metadata": {},
   "source": [
    "### Define a function to clean, lowercase, and stem the text content"
   ]
  },
  {
   "cell_type": "code",
   "execution_count": 14,
   "id": "edd126d1-e60c-4bf7-957d-955bdd21039e",
   "metadata": {},
   "outputs": [],
   "source": [
    "def stemming(text):\n",
    "    # Remove non-alphabetic characters and convert to lowercase\n",
    "    text = re.sub('[^a-zA-Z ]', '', text)\n",
    "    text = text.lower()\n",
    "    words = text.split()\n",
    "    # Stem the words and remove stopwords\n",
    "    stemmed_words = [port_stem.stem(word) for word in words if word not in stopwords.words('english')]\n",
    "    return ' '.join(stemmed_words)\n"
   ]
  },
  {
   "cell_type": "markdown",
   "id": "027811d2-9277-4187-99bc-3e7f2bb2e22d",
   "metadata": {},
   "source": [
    "### Applying stemming function to the 'Content' column in the datasets"
   ]
  },
  {
   "cell_type": "code",
   "execution_count": 15,
   "id": "dbab272f-9377-44a3-b0bd-db7c19119319",
   "metadata": {},
   "outputs": [],
   "source": [
    "X_train = df_train['Content'].apply(stemming)\n",
    "Y_train = df_train['label']  # Separate the labels\n",
    "X_test = df_test['Content'].apply(stemming)\n"
   ]
  },
  {
   "cell_type": "markdown",
   "id": "df5c8b99-00f7-48cc-ae30-6b1512dbb961",
   "metadata": {},
   "source": [
    "### Print our preprocessed data samples"
   ]
  },
  {
   "cell_type": "code",
   "execution_count": 16,
   "id": "e2a53cd2-f09f-47cd-8d10-fb1bcba37201",
   "metadata": {},
   "outputs": [
    {
     "name": "stdout",
     "output_type": "stream",
     "text": [
      "0    darrel lucu hous dem aid didnt even see comey ...\n",
      "1    daniel j flynn flynn hillari clinton big woman...\n",
      "2               consortiumnewscom truth might get fire\n",
      "3    jessica purkiss civilian kill singl us airstri...\n",
      "4    howard portnoy iranian woman jail fiction unpu...\n",
      "Name: Content, dtype: object\n",
      "0    david streitfeld specter trump loosen tongu pu...\n",
      "1    russian warship readi strike terrorist near al...\n",
      "2    common dream nodapl nativ american leader vow ...\n",
      "3    daniel victor tim tebow attempt anoth comeback...\n",
      "4     truth broadcast network keiser report meme war e\n",
      "Name: Content, dtype: object\n"
     ]
    }
   ],
   "source": [
    "print(X_train.head())\n",
    "print(X_test.head())"
   ]
  },
  {
   "cell_type": "markdown",
   "id": "0d0aa193-88ca-41c4-94d3-901d0b580d73",
   "metadata": {},
   "source": [
    "### Initialize TF-IDF Vectorizer to convert text data to numerical format"
   ]
  },
  {
   "cell_type": "code",
   "execution_count": 17,
   "id": "075bc37b-041b-42f0-831e-0f8d9c2d548d",
   "metadata": {},
   "outputs": [],
   "source": [
    "vectorizer = TfidfVectorizer()\n",
    "X_train = vectorizer.fit_transform(X_train)  # Fit and transform the training data\n",
    "X_test = vectorizer.transform(X_test)        # Transform the testing data"
   ]
  },
  {
   "cell_type": "markdown",
   "id": "4aaf8faf-3dc7-4cd8-979c-c4549662225b",
   "metadata": {},
   "source": [
    "### Initialize & Train the SVM model"
   ]
  },
  {
   "cell_type": "code",
   "execution_count": 18,
   "id": "97cc95ed-cae0-415d-9068-30a8b1eb28d1",
   "metadata": {},
   "outputs": [],
   "source": [
    "model = SVC()\n",
    "\n",
    "# Train the SVM model on the training data\n",
    "model.fit(X_train, Y_train)\n",
    "\n",
    "# Make predictions on the test set\n",
    "predictions = model.predict(X_test)"
   ]
  },
  {
   "cell_type": "markdown",
   "id": "4a840a80-d7f2-4051-ba37-6cb68159b2d0",
   "metadata": {},
   "source": [
    "### Checking the accuracy of the model on the training data"
   ]
  },
  {
   "cell_type": "code",
   "execution_count": 19,
   "id": "a0c70812-d3f4-485e-b8b2-1f57b80e98b9",
   "metadata": {},
   "outputs": [
    {
     "name": "stdout",
     "output_type": "stream",
     "text": [
      "Model Accuracy on training data: 0.9990865384615385\n"
     ]
    }
   ],
   "source": [
    "accuracy = model.score(X_train, Y_train)\n",
    "print(\"Model Accuracy on training data:\", accuracy)"
   ]
  },
  {
   "cell_type": "markdown",
   "id": "6067c723-133a-44ea-8e7b-3c3f51bc6fe3",
   "metadata": {},
   "source": [
    "### Saving the vectorizer and model using pickle for later use"
   ]
  },
  {
   "cell_type": "code",
   "execution_count": 20,
   "id": "b077a532-cc1c-4a13-991f-fe1b525f40b5",
   "metadata": {},
   "outputs": [],
   "source": [
    "pickle.dump(vectorizer, open('vector.pkl', 'wb'))\n",
    "pickle.dump(model, open('model.pkl', 'wb'))"
   ]
  },
  {
   "cell_type": "markdown",
   "id": "41a43465-38b5-4147-8e18-2af2cba1d290",
   "metadata": {},
   "source": [
    "### Loading the vectorizer and model for predictions"
   ]
  },
  {
   "cell_type": "code",
   "execution_count": 21,
   "id": "2ec21f0b-fc4a-48d7-923e-0aec459ff144",
   "metadata": {},
   "outputs": [],
   "source": [
    "vector_form = pickle.load(open('vector.pkl', 'rb'))\n",
    "load_model = pickle.load(open('model.pkl', 'rb'))"
   ]
  },
  {
   "cell_type": "markdown",
   "id": "d99ce3b6-87be-4225-a77a-fdd2a81ce71d",
   "metadata": {},
   "source": [
    "### Defining a function to make predictions on new text data"
   ]
  },
  {
   "cell_type": "code",
   "execution_count": 22,
   "id": "5b5b3769-8511-401f-995c-9922ad0b6757",
   "metadata": {},
   "outputs": [],
   "source": [
    "def fake_news(news):\n",
    "    news = stemming(news)  # Preprocess the input text with the stemming function\n",
    "    input_data = [news]  # Wrap in a list as the model expects an array-like input\n",
    "    vector_form1 = vector_form.transform(input_data)  # Transform input data to TF-IDF vector\n",
    "    prediction = load_model.predict(vector_form1)  # Make prediction using the loaded model\n",
    "    return prediction"
   ]
  },
  {
   "cell_type": "markdown",
   "id": "e68f1763-3e1f-40ca-b9ac-658cfb681375",
   "metadata": {},
   "source": [
    "### Test the fake_news function with a sample input"
   ]
  },
  {
   "cell_type": "code",
   "execution_count": 23,
   "id": "82749e8e-ae34-44d7-a3c3-ff4fa182b77d",
   "metadata": {},
   "outputs": [],
   "source": [
    "val = fake_news(\"\"\"In these trying times, Jackie Mason is the Voice of Reason. \n",
    "    In this week’s exclusive clip for Breitbart News, Jackie discusses the looming threat of North Korea, \n",
    "    and explains how President Donald Trump could win the support of the Hollywood left if the U.S. needs to strike first.\n",
    "    \"\"\") "
   ]
  },
  {
   "cell_type": "code",
   "execution_count": null,
   "id": "995186aa-22c2-480e-80d4-fd60d65d4b84",
   "metadata": {},
   "outputs": [],
   "source": []
  },
  {
   "cell_type": "code",
   "execution_count": 24,
   "id": "4b713fac-94fe-4ef8-8609-8a84863f2241",
   "metadata": {},
   "outputs": [],
   "source": [
    "val_1 = fake_news(\"\"\"In these trying times, Jackie Mason is the Voice of Reason. \n",
    "    In this week’s exclusive clip for Breitbart News, Jackie discusses the looming threat of North Korea, \n",
    "    and explains how President Donald Trump could win the support of the Hollywood left if the U.S. needs to strike first.\n",
    "    \"\"\") "
   ]
  },
  {
   "cell_type": "markdown",
   "id": "2be29ca1-593e-41da-8769-463d66884f7e",
   "metadata": {},
   "source": [
    "### Print the prediction result"
   ]
  },
  {
   "cell_type": "code",
   "execution_count": 25,
   "id": "31f02453-e3b1-48bd-9558-ec08792f264b",
   "metadata": {},
   "outputs": [
    {
     "name": "stdout",
     "output_type": "stream",
     "text": [
      "reliable\n"
     ]
    }
   ],
   "source": [
    "if val[0] == 0:\n",
    "    print('reliable')\n",
    "else:\n",
    "    print('unreliable')"
   ]
  },
  {
   "cell_type": "code",
   "execution_count": 26,
   "id": "caf35edc-7279-427b-aee9-bc72e2e7a54b",
   "metadata": {},
   "outputs": [
    {
     "name": "stdout",
     "output_type": "stream",
     "text": [
      "reliable\n"
     ]
    }
   ],
   "source": [
    "if val_1[0] == 0:\n",
    "    print('reliable')\n",
    "else:\n",
    "    print('unreliable')"
   ]
  },
  {
   "cell_type": "code",
   "execution_count": null,
   "id": "9f9cb011-d696-49e9-877d-f0b70bfc77da",
   "metadata": {},
   "outputs": [],
   "source": [
    "\n"
   ]
  },
  {
   "cell_type": "code",
   "execution_count": null,
   "id": "a9e1cd50-b87e-463b-83b5-280ff481cb25",
   "metadata": {},
   "outputs": [],
   "source": []
  }
 ],
 "metadata": {
  "kernelspec": {
   "display_name": "Python 3 (ipykernel)",
   "language": "python",
   "name": "python3"
  },
  "language_info": {
   "codemirror_mode": {
    "name": "ipython",
    "version": 3
   },
   "file_extension": ".py",
   "mimetype": "text/x-python",
   "name": "python",
   "nbconvert_exporter": "python",
   "pygments_lexer": "ipython3",
   "version": "3.12.0"
  }
 },
 "nbformat": 4,
 "nbformat_minor": 5
}
